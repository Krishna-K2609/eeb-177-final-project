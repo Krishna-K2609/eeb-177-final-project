{
 "cells": [
  {
   "cell_type": "markdown",
   "metadata": {},
   "source": [
    "## Pseudocode 2\n",
    "\n",
    "**For this project I want to compare rainfall in 2016 to the average rainfall between 1997-2015 at the global level.**   \n",
    "\n",
    "Data contain daily precipitation values for 1997-2016. Data files are stored in directories for each of the relevant years in the format \"2015\", \"2016\" and so on. In the first pseudocode, data had already been saved in numpy-readable format.\n",
    "\n",
    "To get the average rainfall values for 2016 I will need to use a ```for loop```:\n",
    "\n",
    "```\n",
    "for numpy_files in directory_for_2016:\n",
    "        np.average of numpy_files\n",
    "        save as average_of_2016\n",
    "```\n",
    "\n",
    "To get the average rainfall values for 1997-2015 I will also need a ```for loop``` and will also use the range function to include all relevant datasets:\n",
    "\n",
    "```\n",
    "for numpy_files in directories in range (1997, 2016):\n",
    "    np.average of numpy_files\n",
    "    save as long_term_average\n",
    "```"
   ]
  }
 ],
 "metadata": {
  "anaconda-cloud": {},
  "kernelspec": {
   "display_name": "Python [conda root]",
   "language": "python",
   "name": "conda-root-py"
  },
  "language_info": {
   "codemirror_mode": {
    "name": "ipython",
    "version": 3
   },
   "file_extension": ".py",
   "mimetype": "text/x-python",
   "name": "python",
   "nbconvert_exporter": "python",
   "pygments_lexer": "ipython3",
   "version": "3.5.2"
  }
 },
 "nbformat": 4,
 "nbformat_minor": 2
}
