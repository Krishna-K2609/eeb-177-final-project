{
 "cells": [
  {
   "cell_type": "markdown",
   "metadata": {},
   "source": [
    "## Function 0: Getting the data\n",
    "\n",
    "Getting HDF and HDF5 data is more complicated than what we have dealt with so far...\n",
    "\n",
    "In the home directory, I need to create a .netrc file with my login and password details, then a blank .urs_cookies file.\n",
    "\n",
    "```\n",
    "cd ~\n",
    "touch .netrc\n",
    "echo \"machine urs.earthdata.nasa.gov login krishna2609 password (I won't share my password here!)\" >> .netrc\n",
    "chmod 0600 .netrc\n",
    "touch .urs_cookies\n",
    "```\n",
    "\n",
    "Then, from the IMERG server get the links to the files and save in myfile.dat along with the desired directory path for the files. After that we can use wget to get the files:\n",
    "\n",
    "```\n",
    "wget --content-disposition --load-cookies ~/.urs_cookies --save-cookies ~/.urs_cookies --auth-no-challenge=on --keep-session-cookies -i myfile.dat\n",
    "```\n"
   ]
  }
 ],
 "metadata": {
  "anaconda-cloud": {},
  "kernelspec": {
   "display_name": "Python [conda root]",
   "language": "python",
   "name": "conda-root-py"
  },
  "language_info": {
   "codemirror_mode": {
    "name": "ipython",
    "version": 3
   },
   "file_extension": ".py",
   "mimetype": "text/x-python",
   "name": "python",
   "nbconvert_exporter": "python",
   "pygments_lexer": "ipython3",
   "version": "3.5.2"
  }
 },
 "nbformat": 4,
 "nbformat_minor": 2
}
