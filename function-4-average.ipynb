{
 "cells": [
  {
   "cell_type": "markdown",
   "metadata": {},
   "source": [
    "## Fourth code: Mapping averages\n",
    "\n",
    "** The objective of the codeis to calculate precipitation averages for any number of files.**\n",
    "\n",
    "The code will be of the type:\n",
    "```\n",
    "precips = []\n",
    "for files in current directory:\n",
    "    readPrecip\n",
    "    append precip data to precips\n",
    "    precip_average = all precip values/length of list\n",
    "```"
   ]
  },
  {
   "cell_type": "code",
   "execution_count": null,
   "metadata": {
    "collapsed": true
   },
   "outputs": [],
   "source": [
    "# importing modules and libraries\n",
    "from mpl_toolkits.basemap import Basemap, cm\n",
    "import matplotlib.pyplot as plt\n",
    "import matplotlib.image as mpimg\n",
    "import numpy as np\n",
    "import h5py as h5py\n",
    "import os\n",
    "\n",
    "# Creating a function to read precipitation data from files\n",
    "def readPrecip(file_path):\n",
    "    #this function reads precipitation data from a hdf5 file\n",
    "    data = h5py.File(file_path, 'r') \n",
    "    precip = file['Grid/precipitation'][:]\n",
    "    precip = np.transpose(precip)\n",
    "    # assign geography to values\n",
    "    theLats = file['Grid/lat'][:]\n",
    "    theLons = file['Grid/lon'][:]\n",
    "    return[precip, theLats, theLons]"
   ]
  },
  {
   "cell_type": "code",
   "execution_count": null,
   "metadata": {
    "collapsed": false
   },
   "outputs": [],
   "source": [
    "import numpy as np\n",
    "import h5py as h5py\n",
    "import os\n",
    "\n",
    "files = [f for f in os.listdir('/home/eeb177-student/Desktop/eeb177/eeb-177-final-project/data/2015')]\n",
    "# obtain all files in a directory\n",
    "\n",
    "precips = [] # empty list for all precipitation data\n",
    "for file in files:\n",
    "    fullpath = '/home/eeb177-student/Desktop/eeb177/eeb-177-final-project/data/2015/'+file # path to files\n",
    "    precip,TheLats,theLons = readPrecip(fullpath) # using the readPrecip function defined earlier\n",
    "    precips.append(precip) # appending all rainfall values to the empty list\n",
    "    \n",
    "precip_average = np.add(precips)/len(precips) # adding all values in the array and dividing by the length of the list to obtain long-term average\n",
    "    "
   ]
  }
 ],
 "metadata": {
  "anaconda-cloud": {},
  "kernelspec": {
   "display_name": "Python [conda root]",
   "language": "python",
   "name": "conda-root-py"
  },
  "language_info": {
   "codemirror_mode": {
    "name": "ipython",
    "version": 3
   },
   "file_extension": ".py",
   "mimetype": "text/x-python",
   "name": "python",
   "nbconvert_exporter": "python",
   "pygments_lexer": "ipython3",
   "version": "3.5.2"
  }
 },
 "nbformat": 4,
 "nbformat_minor": 2
}
