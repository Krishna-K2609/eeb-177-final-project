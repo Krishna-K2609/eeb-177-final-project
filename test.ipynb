{
 "cells": [
  {
   "cell_type": "code",
   "execution_count": 3,
   "metadata": {
    "collapsed": false
   },
   "outputs": [
    {
     "ename": "ImportError",
     "evalue": "No module named 'pyhdf'",
     "output_type": "error",
     "traceback": [
      "\u001b[0;31m---------------------------------------------------------------------------\u001b[0m",
      "\u001b[0;31mImportError\u001b[0m                               Traceback (most recent call last)",
      "\u001b[0;32m<ipython-input-3-475fbbad8ec5>\u001b[0m in \u001b[0;36m<module>\u001b[0;34m()\u001b[0m\n\u001b[1;32m      2\u001b[0m \u001b[0;32mimport\u001b[0m \u001b[0mmatplotlib\u001b[0m\u001b[0;34m.\u001b[0m\u001b[0mpyplot\u001b[0m \u001b[0;32mas\u001b[0m \u001b[0mplt\u001b[0m\u001b[0;34m\u001b[0m\u001b[0m\n\u001b[1;32m      3\u001b[0m \u001b[0;32mimport\u001b[0m \u001b[0mnumpy\u001b[0m \u001b[0;32mas\u001b[0m \u001b[0mnp\u001b[0m\u001b[0;34m\u001b[0m\u001b[0m\n\u001b[0;32m----> 4\u001b[0;31m \u001b[0;32mfrom\u001b[0m \u001b[0mpyhdf\u001b[0m\u001b[0;34m.\u001b[0m\u001b[0mSD\u001b[0m \u001b[0;32mimport\u001b[0m \u001b[0mSD\u001b[0m\u001b[0;34m,\u001b[0m \u001b[0mSDC\u001b[0m\u001b[0;34m\u001b[0m\u001b[0m\n\u001b[0m\u001b[1;32m      5\u001b[0m \u001b[0;34m\u001b[0m\u001b[0m\n\u001b[1;32m      6\u001b[0m \u001b[0mdataset\u001b[0m \u001b[0;34m=\u001b[0m \u001b[0mSD\u001b[0m\u001b[0;34m(\u001b[0m\u001b[0;34m\"/home/eeb177-student/Desktop/eeb177/eeb-177-final-project/data/1998/3A25.19980101.7.HDF\"\u001b[0m\u001b[0;34m,\u001b[0m \u001b[0mSDC\u001b[0m\u001b[0;34m.\u001b[0m\u001b[0mREAD\u001b[0m\u001b[0;34m)\u001b[0m\u001b[0;34m\u001b[0m\u001b[0m\n",
      "\u001b[0;31mImportError\u001b[0m: No module named 'pyhdf'"
     ]
    }
   ],
   "source": [
    "# from mpl_toolkits.basemap import Basemap, cm\n",
    "import matplotlib.pyplot as plt\n",
    "import numpy as np\n",
    "from pyhdf.SD import SD, SDC\n",
    "\n",
    "dataset = SD(\"/home/eeb177-student/Desktop/eeb177/eeb-177-final-project/data/1998/3A25.19980101.7.HDF\", SDC.READ)\n",
    "\n",
    "precip = dataset.select(\"precipitation\")\n",
    "precip = precip[:]\n",
    "precip = np.transpose(precip)\n",
    "\n",
    "theLats = np.arange(-49.875,50,0.25)\n",
    "theLons = np.arange(-179.875,180,0.25)\n",
    "\n",
    "# set all missing values less than 0 to NA\n",
    "np.putmask(precip,pecip<0,np.nan)\n",
    "\n",
    "# plot figure, define geographic boundaries\n",
    "fig = plt.figure(dpi=300)\n",
    "latcorners=([-50,50])\n",
    "loncorner=([-180,180])\n",
    "\n",
    "m = Basemap(projection='cyl',\\\n",
    "            llcrnrlat=latcorners[0],urcrnrlat=latcorners[1],llcrnrlon=loncorners[0],urcnrlon=loncorners[1])\n",
    "\n",
    "# Draw coastlines and countries\n",
    "m.drawcoastlines()\n",
    "m.drawcountries()\n",
    "\n",
    "# Draw filles contours\n",
    "clevs = np.arange(0,5.01,0.5)\n",
    "\n",
    "# Define lat and lon data\n",
    "x, y = np.float32(np.meshgrid(theLons, theLats))\n",
    "cs = m.contour(x,y,precip,clevs,cmap=cm.m.GMT_drywet,latlon=True)\n",
    "\n",
    "parallels = np.arange(-50.,51,25.)    \n",
    "m.drawparallels(parallels,labels=[True,False,True,False])\n",
    "meridians = np.arange(-180.,180.,60.)\n",
    "m.drawmeridians(meridians,labels=[False,False,False,True])"
   ]
  },
  {
   "cell_type": "code",
   "execution_count": 7,
   "metadata": {
    "collapsed": false
   },
   "outputs": [
    {
     "ename": "NameError",
     "evalue": "name 'ZipFile' is not defined",
     "output_type": "error",
     "traceback": [
      "\u001b[0;31m---------------------------------------------------------------------------\u001b[0m",
      "\u001b[0;31mNameError\u001b[0m                                 Traceback (most recent call last)",
      "\u001b[0;32m<ipython-input-7-5f5645e756a3>\u001b[0m in \u001b[0;36m<module>\u001b[0;34m()\u001b[0m\n\u001b[1;32m      1\u001b[0m \u001b[0;32mimport\u001b[0m \u001b[0mzipfile\u001b[0m\u001b[0;34m\u001b[0m\u001b[0m\n\u001b[0;32m----> 2\u001b[0;31m \u001b[0mz\u001b[0m \u001b[0;34m=\u001b[0m \u001b[0mZipFile\u001b[0m\u001b[0;34m(\u001b[0m\u001b[0;34m\"data/1998/3A25.19980101.7.HDF.map.gz\"\u001b[0m\u001b[0;34m)\u001b[0m\u001b[0;34m\u001b[0m\u001b[0m\n\u001b[0m\u001b[1;32m      3\u001b[0m \u001b[0mz\u001b[0m\u001b[0;34m.\u001b[0m\u001b[0mextractall\u001b[0m\u001b[0;34m(\u001b[0m\u001b[0;34m)\u001b[0m\u001b[0;34m\u001b[0m\u001b[0m\n",
      "\u001b[0;31mNameError\u001b[0m: name 'ZipFile' is not defined"
     ]
    }
   ],
   "source": [
    "import zipfile\n",
    "z = ZipFile(\"data/1998/3A25.19980101.7.HDF.map.gz\")\n",
    "z.extractall()"
   ]
  },
  {
   "cell_type": "code",
   "execution_count": null,
   "metadata": {
    "collapsed": true
   },
   "outputs": [],
   "source": []
  }
 ],
 "metadata": {
  "anaconda-cloud": {},
  "kernelspec": {
   "display_name": "Python [conda root]",
   "language": "python",
   "name": "conda-root-py"
  },
  "language_info": {
   "codemirror_mode": {
    "name": "ipython",
    "version": 3
   },
   "file_extension": ".py",
   "mimetype": "text/x-python",
   "name": "python",
   "nbconvert_exporter": "python",
   "pygments_lexer": "ipython3",
   "version": "3.5.2"
  }
 },
 "nbformat": 4,
 "nbformat_minor": 2
}
