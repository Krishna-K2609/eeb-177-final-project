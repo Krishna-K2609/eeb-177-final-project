{
 "cells": [
  {
   "cell_type": "markdown",
   "metadata": {},
   "source": [
    "For this project I will be using several modules which are not installed in the Virtual Machine including h5py, numpy, scipy, and matplotlib and basemap; matplotlib was previously installed for a homework assignment.\n",
    "\n",
    "In order to install the modules, the following commands are needed:\n",
    "\n",
    "```\n",
    "conda install numpy\n",
    "\n",
    "conda install scipy\n",
    "\n",
    "conda install basemap\n",
    "\n",
    "conda install h5py\n",
    "```\n",
    "An HDF4 reader is also needed for pre-2015 data. The best module is pyhdf; installation is through the command\n",
    "```\n",
    "conda install -c conda-forge pyhdf\n",
    "```\n"
   ]
  }
 ],
 "metadata": {
  "anaconda-cloud": {},
  "kernelspec": {
   "display_name": "Python [conda root]",
   "language": "python",
   "name": "conda-root-py"
  },
  "language_info": {
   "codemirror_mode": {
    "name": "ipython",
    "version": 3
   },
   "file_extension": ".py",
   "mimetype": "text/x-python",
   "name": "python",
   "nbconvert_exporter": "python",
   "pygments_lexer": "ipython3",
   "version": "3.5.2"
  }
 },
 "nbformat": 4,
 "nbformat_minor": 2
}
