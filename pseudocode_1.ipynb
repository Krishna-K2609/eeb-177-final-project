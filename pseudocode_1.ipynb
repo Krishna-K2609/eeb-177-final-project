{
 "cells": [
  {
   "cell_type": "markdown",
   "metadata": {},
   "source": [
    "## Pseudocode 1\n",
    "\n",
    "**For this project I will need to read netCDF files (native format of raster data) using numpy in order to get averages.**   \n",
    "\n",
    "The first step is to import numpy using the command: \n",
    "```\n",
    "import numpy as np\n",
    "```\n",
    "\n",
    "Saving numpy as the shortcut \"np\" will save time when calling numpy functions.\n",
    "\n",
    "Files are stored in directories for each year in the format \"1997\", \"1998\", and so on; each file contains an image of global precipitation values for that particular day.  \n",
    "\n",
    "The second step will be to read each of the data files (in netCDF format) in numpy-friendly format. Given the large number of files, a ```for loop``` will be required:\n",
    "\n",
    "```\n",
    "for files in directory_with_all_data_files:\n",
    "        read file\n",
    "        save as numpy_friendly_file\n",
    "```"
   ]
  }
 ],
 "metadata": {
  "kernelspec": {
   "display_name": "Python [conda root]",
   "language": "python",
   "name": "conda-root-py"
  },
  "language_info": {
   "codemirror_mode": {
    "name": "ipython",
    "version": 3
   },
   "file_extension": ".py",
   "mimetype": "text/x-python",
   "name": "python",
   "nbconvert_exporter": "python",
   "pygments_lexer": "ipython3",
   "version": "3.5.2"
  }
 },
 "nbformat": 4,
 "nbformat_minor": 2
}
